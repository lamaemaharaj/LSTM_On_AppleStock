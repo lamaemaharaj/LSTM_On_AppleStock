{
 "cells": [
  {
   "cell_type": "code",
   "execution_count": 172,
   "id": "f153a193",
   "metadata": {},
   "outputs": [],
   "source": [
    "# Importing Dependences\n",
    "import math \n",
    "from sklearn.preprocessing import MinMaxScaler \n",
    "from keras.models import Sequential \n",
    "from keras.layers import Dense, LSTM\n",
    "import numpy as np \n",
    "import pandas as pd \n",
    "import yfinance as yf \n",
    "import matplotlib.pyplot as plt \n",
    "plt.style.use('fivethirtyeight')"
   ]
  },
  {
   "cell_type": "code",
   "execution_count": 173,
   "id": "d9c91ac5",
   "metadata": {},
   "outputs": [
    {
     "data": {
      "text/html": [
       "<div>\n",
       "<style scoped>\n",
       "    .dataframe tbody tr th:only-of-type {\n",
       "        vertical-align: middle;\n",
       "    }\n",
       "\n",
       "    .dataframe tbody tr th {\n",
       "        vertical-align: top;\n",
       "    }\n",
       "\n",
       "    .dataframe thead th {\n",
       "        text-align: right;\n",
       "    }\n",
       "</style>\n",
       "<table border=\"1\" class=\"dataframe\">\n",
       "  <thead>\n",
       "    <tr style=\"text-align: right;\">\n",
       "      <th></th>\n",
       "      <th>Open</th>\n",
       "      <th>High</th>\n",
       "      <th>Low</th>\n",
       "      <th>Close</th>\n",
       "      <th>Volume</th>\n",
       "      <th>Dividends</th>\n",
       "      <th>Stock Splits</th>\n",
       "    </tr>\n",
       "    <tr>\n",
       "      <th>Date</th>\n",
       "      <th></th>\n",
       "      <th></th>\n",
       "      <th></th>\n",
       "      <th></th>\n",
       "      <th></th>\n",
       "      <th></th>\n",
       "      <th></th>\n",
       "    </tr>\n",
       "  </thead>\n",
       "  <tbody>\n",
       "    <tr>\n",
       "      <th>1980-12-12</th>\n",
       "      <td>0.100178</td>\n",
       "      <td>0.100614</td>\n",
       "      <td>0.100178</td>\n",
       "      <td>0.100178</td>\n",
       "      <td>469033600</td>\n",
       "      <td>0.0</td>\n",
       "      <td>0.0</td>\n",
       "    </tr>\n",
       "    <tr>\n",
       "      <th>1980-12-15</th>\n",
       "      <td>0.095388</td>\n",
       "      <td>0.095388</td>\n",
       "      <td>0.094952</td>\n",
       "      <td>0.094952</td>\n",
       "      <td>175884800</td>\n",
       "      <td>0.0</td>\n",
       "      <td>0.0</td>\n",
       "    </tr>\n",
       "    <tr>\n",
       "      <th>1980-12-16</th>\n",
       "      <td>0.088418</td>\n",
       "      <td>0.088418</td>\n",
       "      <td>0.087983</td>\n",
       "      <td>0.087983</td>\n",
       "      <td>105728000</td>\n",
       "      <td>0.0</td>\n",
       "      <td>0.0</td>\n",
       "    </tr>\n",
       "    <tr>\n",
       "      <th>1980-12-17</th>\n",
       "      <td>0.090160</td>\n",
       "      <td>0.090596</td>\n",
       "      <td>0.090160</td>\n",
       "      <td>0.090160</td>\n",
       "      <td>86441600</td>\n",
       "      <td>0.0</td>\n",
       "      <td>0.0</td>\n",
       "    </tr>\n",
       "    <tr>\n",
       "      <th>1980-12-18</th>\n",
       "      <td>0.092774</td>\n",
       "      <td>0.093210</td>\n",
       "      <td>0.092774</td>\n",
       "      <td>0.092774</td>\n",
       "      <td>73449600</td>\n",
       "      <td>0.0</td>\n",
       "      <td>0.0</td>\n",
       "    </tr>\n",
       "    <tr>\n",
       "      <th>...</th>\n",
       "      <td>...</td>\n",
       "      <td>...</td>\n",
       "      <td>...</td>\n",
       "      <td>...</td>\n",
       "      <td>...</td>\n",
       "      <td>...</td>\n",
       "      <td>...</td>\n",
       "    </tr>\n",
       "    <tr>\n",
       "      <th>2021-12-27</th>\n",
       "      <td>176.605184</td>\n",
       "      <td>179.926069</td>\n",
       "      <td>176.585249</td>\n",
       "      <td>179.836319</td>\n",
       "      <td>74919600</td>\n",
       "      <td>0.0</td>\n",
       "      <td>0.0</td>\n",
       "    </tr>\n",
       "    <tr>\n",
       "      <th>2021-12-28</th>\n",
       "      <td>179.666792</td>\n",
       "      <td>180.833588</td>\n",
       "      <td>178.041250</td>\n",
       "      <td>178.799164</td>\n",
       "      <td>79144300</td>\n",
       "      <td>0.0</td>\n",
       "      <td>0.0</td>\n",
       "    </tr>\n",
       "    <tr>\n",
       "      <th>2021-12-29</th>\n",
       "      <td>178.839050</td>\n",
       "      <td>180.135494</td>\n",
       "      <td>177.652305</td>\n",
       "      <td>178.888916</td>\n",
       "      <td>62348900</td>\n",
       "      <td>0.0</td>\n",
       "      <td>0.0</td>\n",
       "    </tr>\n",
       "    <tr>\n",
       "      <th>2021-12-30</th>\n",
       "      <td>178.978670</td>\n",
       "      <td>180.075665</td>\n",
       "      <td>177.602443</td>\n",
       "      <td>177.712143</td>\n",
       "      <td>59773000</td>\n",
       "      <td>0.0</td>\n",
       "      <td>0.0</td>\n",
       "    </tr>\n",
       "    <tr>\n",
       "      <th>2021-12-31</th>\n",
       "      <td>177.602443</td>\n",
       "      <td>178.739321</td>\n",
       "      <td>176.774713</td>\n",
       "      <td>177.083878</td>\n",
       "      <td>64062300</td>\n",
       "      <td>0.0</td>\n",
       "      <td>0.0</td>\n",
       "    </tr>\n",
       "  </tbody>\n",
       "</table>\n",
       "<p>10352 rows × 7 columns</p>\n",
       "</div>"
      ],
      "text/plain": [
       "                  Open        High         Low       Close     Volume  \\\n",
       "Date                                                                    \n",
       "1980-12-12    0.100178    0.100614    0.100178    0.100178  469033600   \n",
       "1980-12-15    0.095388    0.095388    0.094952    0.094952  175884800   \n",
       "1980-12-16    0.088418    0.088418    0.087983    0.087983  105728000   \n",
       "1980-12-17    0.090160    0.090596    0.090160    0.090160   86441600   \n",
       "1980-12-18    0.092774    0.093210    0.092774    0.092774   73449600   \n",
       "...                ...         ...         ...         ...        ...   \n",
       "2021-12-27  176.605184  179.926069  176.585249  179.836319   74919600   \n",
       "2021-12-28  179.666792  180.833588  178.041250  178.799164   79144300   \n",
       "2021-12-29  178.839050  180.135494  177.652305  178.888916   62348900   \n",
       "2021-12-30  178.978670  180.075665  177.602443  177.712143   59773000   \n",
       "2021-12-31  177.602443  178.739321  176.774713  177.083878   64062300   \n",
       "\n",
       "            Dividends  Stock Splits  \n",
       "Date                                 \n",
       "1980-12-12        0.0           0.0  \n",
       "1980-12-15        0.0           0.0  \n",
       "1980-12-16        0.0           0.0  \n",
       "1980-12-17        0.0           0.0  \n",
       "1980-12-18        0.0           0.0  \n",
       "...               ...           ...  \n",
       "2021-12-27        0.0           0.0  \n",
       "2021-12-28        0.0           0.0  \n",
       "2021-12-29        0.0           0.0  \n",
       "2021-12-30        0.0           0.0  \n",
       "2021-12-31        0.0           0.0  \n",
       "\n",
       "[10352 rows x 7 columns]"
      ]
     },
     "execution_count": 173,
     "metadata": {},
     "output_type": "execute_result"
    }
   ],
   "source": [
    "# Training Data\n",
    "AAP = yf.Ticker(\"AAPL\")\n",
    "start = '1980-12-12'\n",
    "end = \"2022-01-01\"\n",
    "AAP = AAP.history(start=start, end=end)\n",
    "AAP"
   ]
  },
  {
   "cell_type": "code",
   "execution_count": 174,
   "id": "c43c3d2e",
   "metadata": {},
   "outputs": [
    {
     "data": {
      "text/html": [
       "<div>\n",
       "<style scoped>\n",
       "    .dataframe tbody tr th:only-of-type {\n",
       "        vertical-align: middle;\n",
       "    }\n",
       "\n",
       "    .dataframe tbody tr th {\n",
       "        vertical-align: top;\n",
       "    }\n",
       "\n",
       "    .dataframe thead th {\n",
       "        text-align: right;\n",
       "    }\n",
       "</style>\n",
       "<table border=\"1\" class=\"dataframe\">\n",
       "  <thead>\n",
       "    <tr style=\"text-align: right;\">\n",
       "      <th></th>\n",
       "      <th>Open</th>\n",
       "      <th>High</th>\n",
       "      <th>Low</th>\n",
       "      <th>Close</th>\n",
       "      <th>Volume</th>\n",
       "      <th>Dividends</th>\n",
       "      <th>Stock Splits</th>\n",
       "    </tr>\n",
       "    <tr>\n",
       "      <th>Date</th>\n",
       "      <th></th>\n",
       "      <th></th>\n",
       "      <th></th>\n",
       "      <th></th>\n",
       "      <th></th>\n",
       "      <th></th>\n",
       "      <th></th>\n",
       "    </tr>\n",
       "  </thead>\n",
       "  <tbody>\n",
       "    <tr>\n",
       "      <th>2022-01-03</th>\n",
       "      <td>177.343154</td>\n",
       "      <td>182.379332</td>\n",
       "      <td>177.223488</td>\n",
       "      <td>181.511703</td>\n",
       "      <td>104487900</td>\n",
       "      <td>0.0</td>\n",
       "      <td>0</td>\n",
       "    </tr>\n",
       "    <tr>\n",
       "      <th>2022-01-04</th>\n",
       "      <td>182.130025</td>\n",
       "      <td>182.439174</td>\n",
       "      <td>178.629624</td>\n",
       "      <td>179.208038</td>\n",
       "      <td>99310400</td>\n",
       "      <td>0.0</td>\n",
       "      <td>0</td>\n",
       "    </tr>\n",
       "    <tr>\n",
       "      <th>2022-01-05</th>\n",
       "      <td>179.118295</td>\n",
       "      <td>179.676759</td>\n",
       "      <td>174.161899</td>\n",
       "      <td>174.441132</td>\n",
       "      <td>94537600</td>\n",
       "      <td>0.0</td>\n",
       "      <td>0</td>\n",
       "    </tr>\n",
       "    <tr>\n",
       "      <th>2022-01-06</th>\n",
       "      <td>172.227194</td>\n",
       "      <td>174.820082</td>\n",
       "      <td>171.170099</td>\n",
       "      <td>171.529114</td>\n",
       "      <td>96904000</td>\n",
       "      <td>0.0</td>\n",
       "      <td>0</td>\n",
       "    </tr>\n",
       "    <tr>\n",
       "      <th>2022-01-07</th>\n",
       "      <td>172.416684</td>\n",
       "      <td>173.663262</td>\n",
       "      <td>170.561776</td>\n",
       "      <td>171.698654</td>\n",
       "      <td>86709100</td>\n",
       "      <td>0.0</td>\n",
       "      <td>0</td>\n",
       "    </tr>\n",
       "    <tr>\n",
       "      <th>...</th>\n",
       "      <td>...</td>\n",
       "      <td>...</td>\n",
       "      <td>...</td>\n",
       "      <td>...</td>\n",
       "      <td>...</td>\n",
       "      <td>...</td>\n",
       "      <td>...</td>\n",
       "    </tr>\n",
       "    <tr>\n",
       "      <th>2022-05-24</th>\n",
       "      <td>140.809998</td>\n",
       "      <td>141.970001</td>\n",
       "      <td>137.330002</td>\n",
       "      <td>140.360001</td>\n",
       "      <td>104132700</td>\n",
       "      <td>0.0</td>\n",
       "      <td>0</td>\n",
       "    </tr>\n",
       "    <tr>\n",
       "      <th>2022-05-25</th>\n",
       "      <td>138.429993</td>\n",
       "      <td>141.789993</td>\n",
       "      <td>138.339996</td>\n",
       "      <td>140.520004</td>\n",
       "      <td>92482700</td>\n",
       "      <td>0.0</td>\n",
       "      <td>0</td>\n",
       "    </tr>\n",
       "    <tr>\n",
       "      <th>2022-05-26</th>\n",
       "      <td>137.389999</td>\n",
       "      <td>144.339996</td>\n",
       "      <td>137.139999</td>\n",
       "      <td>143.779999</td>\n",
       "      <td>90601500</td>\n",
       "      <td>0.0</td>\n",
       "      <td>0</td>\n",
       "    </tr>\n",
       "    <tr>\n",
       "      <th>2022-05-27</th>\n",
       "      <td>145.389999</td>\n",
       "      <td>149.679993</td>\n",
       "      <td>145.259995</td>\n",
       "      <td>149.639999</td>\n",
       "      <td>90978500</td>\n",
       "      <td>0.0</td>\n",
       "      <td>0</td>\n",
       "    </tr>\n",
       "    <tr>\n",
       "      <th>2022-05-31</th>\n",
       "      <td>149.070007</td>\n",
       "      <td>150.660004</td>\n",
       "      <td>146.839996</td>\n",
       "      <td>148.839996</td>\n",
       "      <td>103718400</td>\n",
       "      <td>0.0</td>\n",
       "      <td>0</td>\n",
       "    </tr>\n",
       "  </tbody>\n",
       "</table>\n",
       "<p>103 rows × 7 columns</p>\n",
       "</div>"
      ],
      "text/plain": [
       "                  Open        High         Low       Close     Volume  \\\n",
       "Date                                                                    \n",
       "2022-01-03  177.343154  182.379332  177.223488  181.511703  104487900   \n",
       "2022-01-04  182.130025  182.439174  178.629624  179.208038   99310400   \n",
       "2022-01-05  179.118295  179.676759  174.161899  174.441132   94537600   \n",
       "2022-01-06  172.227194  174.820082  171.170099  171.529114   96904000   \n",
       "2022-01-07  172.416684  173.663262  170.561776  171.698654   86709100   \n",
       "...                ...         ...         ...         ...        ...   \n",
       "2022-05-24  140.809998  141.970001  137.330002  140.360001  104132700   \n",
       "2022-05-25  138.429993  141.789993  138.339996  140.520004   92482700   \n",
       "2022-05-26  137.389999  144.339996  137.139999  143.779999   90601500   \n",
       "2022-05-27  145.389999  149.679993  145.259995  149.639999   90978500   \n",
       "2022-05-31  149.070007  150.660004  146.839996  148.839996  103718400   \n",
       "\n",
       "            Dividends  Stock Splits  \n",
       "Date                                 \n",
       "2022-01-03        0.0             0  \n",
       "2022-01-04        0.0             0  \n",
       "2022-01-05        0.0             0  \n",
       "2022-01-06        0.0             0  \n",
       "2022-01-07        0.0             0  \n",
       "...               ...           ...  \n",
       "2022-05-24        0.0             0  \n",
       "2022-05-25        0.0             0  \n",
       "2022-05-26        0.0             0  \n",
       "2022-05-27        0.0             0  \n",
       "2022-05-31        0.0             0  \n",
       "\n",
       "[103 rows x 7 columns]"
      ]
     },
     "execution_count": 174,
     "metadata": {},
     "output_type": "execute_result"
    }
   ],
   "source": [
    "# Getting Testing Data\n",
    "OOS_Test_Data = yf.Ticker(\"AAPL\")\n",
    "start = '2022-01-02'\n",
    "end = \"2022-06-01\"\n",
    "OOS_Test_Data = OOS_Test_Data.history(start=start, end=end)\n",
    "OOS_Test_Data"
   ]
  },
  {
   "cell_type": "code",
   "execution_count": 175,
   "id": "afc7111d",
   "metadata": {
    "scrolled": true
   },
   "outputs": [
    {
     "data": {
      "text/plain": [
       "Text(0, 0.5, 'Closing Price')"
      ]
     },
     "execution_count": 175,
     "metadata": {},
     "output_type": "execute_result"
    },
    {
     "data": {
      "image/png": "[encoded data removed]",
      "text/plain": [
       "<Figure size 1152x576 with 1 Axes>"
      ]
     },
     "metadata": {},
     "output_type": "display_data"
    }
   ],
   "source": [
    "# Plotting Closing Prices\n",
    "plt.figure(figsize=(16,8))\n",
    "plt.title('Apple Closing Price History 1980-2021')\n",
    "plt.plot(AAP['Close'])\n",
    "plt.xlabel('Date',fontsize=18)\n",
    "plt.ylabel('Closing Price')"
   ]
  },
  {
   "cell_type": "code",
   "execution_count": 176,
   "id": "3ea01ce0",
   "metadata": {},
   "outputs": [
    {
     "data": {
      "text/plain": [
       "array([[3.43993671e-04],\n",
       "       [3.14925639e-04],\n",
       "       [2.76163747e-04],\n",
       "       ...,\n",
       "       [9.94730737e-01],\n",
       "       [9.88185763e-01],\n",
       "       [9.84691478e-01]])"
      ]
     },
     "execution_count": 176,
     "metadata": {},
     "output_type": "execute_result"
    }
   ],
   "source": [
    "# Filtering Training Data\n",
    "data = AAP.filter(['Close'])\n",
    "data2 = AAP.filter(['Open','Low','High','Volume'])\n",
    "training_data_y = data.values\n",
    "training_data_X = data2.values\n",
    "scaler = MinMaxScaler(feature_range=(0,1))\n",
    "scaled_data_y = scaler.fit_transform(training_data_y)\n",
    "scaled_data_y"
   ]
  },
  {
   "cell_type": "code",
   "execution_count": 177,
   "id": "7c44a01a",
   "metadata": {},
   "outputs": [],
   "source": [
    "y_train = scaled_data_y \n",
    "X_train = training_data_X\n",
    "X_train = np.reshape(X_train,(X_train.shape[0],X_train.shape[1],1))"
   ]
  },
  {
   "cell_type": "code",
   "execution_count": 178,
   "id": "f06a3db1",
   "metadata": {},
   "outputs": [
    {
     "data": {
      "text/plain": [
       "(10352, 4, 1)"
      ]
     },
     "execution_count": 178,
     "metadata": {},
     "output_type": "execute_result"
    }
   ],
   "source": [
    "X_train.shape"
   ]
  },
  {
   "cell_type": "code",
   "execution_count": 179,
   "id": "c4b48097",
   "metadata": {},
   "outputs": [],
   "source": [
    "# LSTM Model \n",
    "model = Sequential()\n",
    "model.add(LSTM(50,return_sequences=True,input_shape=(X_train.shape[1],1)))\n",
    "model.add(LSTM(50,return_sequences=False))\n",
    "model.add(Dense(25))\n",
    "model.add(Dense(1))"
   ]
  },
  {
   "cell_type": "code",
   "execution_count": 180,
   "id": "698182af",
   "metadata": {},
   "outputs": [],
   "source": [
    "# Complile the model \n",
    "model.compile(optimizer='adam', loss='mean_squared_error')"
   ]
  },
  {
   "cell_type": "code",
   "execution_count": 183,
   "id": "04f187f5",
   "metadata": {},
   "outputs": [
    {
     "name": "stdout",
     "output_type": "stream",
     "text": [
      "Epoch 1/11\n",
      "10352/10352 [==============================] - 67s 6ms/step - loss: 8.0916e-05\n",
      "Epoch 2/11\n",
      "10352/10352 [==============================] - 71s 7ms/step - loss: 6.3783e-05\n",
      "Epoch 3/11\n",
      "10352/10352 [==============================] - 68s 7ms/step - loss: 7.8335e-05\n",
      "Epoch 4/11\n",
      "10352/10352 [==============================] - 74s 7ms/step - loss: 7.6106e-05\n",
      "Epoch 5/11\n",
      "10352/10352 [==============================] - 68s 7ms/step - loss: 6.3764e-05\n",
      "Epoch 6/11\n",
      "10352/10352 [==============================] - 44s 4ms/step - loss: 6.2870e-05\n",
      "Epoch 7/11\n",
      "10352/10352 [==============================] - 43s 4ms/step - loss: 7.0125e-05\n",
      "Epoch 8/11\n",
      "10352/10352 [==============================] - 53s 5ms/step - loss: 6.3240e-05\n",
      "Epoch 9/11\n",
      "10352/10352 [==============================] - 74s 7ms/step - loss: 6.1591e-05\n",
      "Epoch 10/11\n",
      "10352/10352 [==============================] - 82s 8ms/step - loss: 5.7086e-05\n",
      "Epoch 11/11\n",
      "10352/10352 [==============================] - 55s 5ms/step - loss: 5.0606e-05\n"
     ]
    },
    {
     "data": {
      "text/plain": [
       "<keras.callbacks.History at 0x7f8ea697ef40>"
      ]
     },
     "execution_count": 183,
     "metadata": {},
     "output_type": "execute_result"
    }
   ],
   "source": [
    "# Training the Model \n",
    "model.fit(X_train,y_train,batch_size=1,epochs=11)"
   ]
  },
  {
   "cell_type": "code",
   "execution_count": 184,
   "id": "b20a096c",
   "metadata": {},
   "outputs": [],
   "source": [
    "Xtest_data = OOS_Test_Data.filter(['Open','Low','High','Volume'])\n",
    "ytest_data = OOS_Test_Data.filter(['Close'])\n",
    "testing_data_X = Xtest_data.values\n",
    "testing_data_y = ytest_data.values\n",
    "test_scaled_data_y = scaler.fit_transform(testing_data_y)"
   ]
  },
  {
   "cell_type": "code",
   "execution_count": 185,
   "id": "ce997a7c",
   "metadata": {},
   "outputs": [
    {
     "data": {
      "text/plain": [
       "(103, 4, 1)"
      ]
     },
     "execution_count": 185,
     "metadata": {},
     "output_type": "execute_result"
    }
   ],
   "source": [
    "X_test = np.array(testing_data_X)\n",
    "y_test = np.array(testing_data_y)\n",
    "X_test = np.reshape(X_test,(X_test.shape[0],X_test.shape[1],1))\n",
    "X_test.shape"
   ]
  },
  {
   "cell_type": "code",
   "execution_count": 186,
   "id": "8f49e103",
   "metadata": {},
   "outputs": [],
   "source": [
    "# Models predicted price values \n",
    "predictions = model.predict(X_test)\n",
    "predictions = scaler.inverse_transform(predictions)"
   ]
  },
  {
   "cell_type": "code",
   "execution_count": null,
   "id": "db478762",
   "metadata": {},
   "outputs": [],
   "source": []
  },
  {
   "cell_type": "code",
   "execution_count": 187,
   "id": "a8c843b7",
   "metadata": {},
   "outputs": [
    {
     "data": {
      "text/plain": [
       "12.872757254294978"
      ]
     },
     "execution_count": 187,
     "metadata": {},
     "output_type": "execute_result"
    }
   ],
   "source": [
    "# RMSE (Root Mean Squared Error)\n",
    "rmse = np.sqrt(np.mean(predictions-y_test)**2)\n",
    "rmse"
   ]
  },
  {
   "cell_type": "code",
   "execution_count": null,
   "id": "24f8b0a3",
   "metadata": {},
   "outputs": [],
   "source": []
  },
  {
   "cell_type": "code",
   "execution_count": 189,
   "id": "6e9cec85",
   "metadata": {
    "scrolled": true
   },
   "outputs": [
    {
     "data": {
      "text/plain": [
       "<matplotlib.collections.PathCollection at 0x7f8ea2099940>"
      ]
     },
     "execution_count": 189,
     "metadata": {},
     "output_type": "execute_result"
    },
    {
     "data": {
      "image/png": "[encoded data removed]",
      "text/plain": [
       "<Figure size 576x396 with 1 Axes>"
      ]
     },
     "metadata": {},
     "output_type": "display_data"
    }
   ],
   "source": [
    "plt.scatter(valid['Predictions'],valid['Close'])"
   ]
  },
  {
   "cell_type": "code",
   "execution_count": 190,
   "id": "e0cc6e66",
   "metadata": {},
   "outputs": [
    {
     "data": {
      "text/html": [
       "<div>\n",
       "<style scoped>\n",
       "    .dataframe tbody tr th:only-of-type {\n",
       "        vertical-align: middle;\n",
       "    }\n",
       "\n",
       "    .dataframe tbody tr th {\n",
       "        vertical-align: top;\n",
       "    }\n",
       "\n",
       "    .dataframe thead th {\n",
       "        text-align: right;\n",
       "    }\n",
       "</style>\n",
       "<table border=\"1\" class=\"dataframe\">\n",
       "  <thead>\n",
       "    <tr style=\"text-align: right;\">\n",
       "      <th></th>\n",
       "      <th>Open</th>\n",
       "      <th>High</th>\n",
       "      <th>Low</th>\n",
       "      <th>Close</th>\n",
       "      <th>Volume</th>\n",
       "      <th>Dividends</th>\n",
       "      <th>Stock Splits</th>\n",
       "    </tr>\n",
       "    <tr>\n",
       "      <th>Date</th>\n",
       "      <th></th>\n",
       "      <th></th>\n",
       "      <th></th>\n",
       "      <th></th>\n",
       "      <th></th>\n",
       "      <th></th>\n",
       "      <th></th>\n",
       "    </tr>\n",
       "  </thead>\n",
       "  <tbody>\n",
       "    <tr>\n",
       "      <th>2022-06-01</th>\n",
       "      <td>149.899994</td>\n",
       "      <td>151.740005</td>\n",
       "      <td>147.679993</td>\n",
       "      <td>148.710007</td>\n",
       "      <td>74143400</td>\n",
       "      <td>0</td>\n",
       "      <td>0</td>\n",
       "    </tr>\n",
       "  </tbody>\n",
       "</table>\n",
       "</div>"
      ],
      "text/plain": [
       "                  Open        High         Low       Close    Volume  \\\n",
       "Date                                                                   \n",
       "2022-06-01  149.899994  151.740005  147.679993  148.710007  74143400   \n",
       "\n",
       "            Dividends  Stock Splits  \n",
       "Date                                 \n",
       "2022-06-01          0             0  "
      ]
     },
     "execution_count": 190,
     "metadata": {},
     "output_type": "execute_result"
    }
   ],
   "source": [
    "Todays_Test = yf.Ticker(\"AAPL\")\n",
    "start = '2022-06-01'\n",
    "end = \"2022-06-02\"\n",
    "Todays_Test = Todays_Test.history(start=start, end=end)\n",
    "Todays_Test"
   ]
  },
  {
   "cell_type": "code",
   "execution_count": 191,
   "id": "797909e6",
   "metadata": {},
   "outputs": [
    {
     "data": {
      "text/plain": [
       "(1, 4, 1)"
      ]
     },
     "execution_count": 191,
     "metadata": {},
     "output_type": "execute_result"
    }
   ],
   "source": [
    "Ttest_data = Todays_Test.filter(['Open','Low','High','Volume'])\n",
    "yTtest_data = Todays_Test.filter(['Close'])\n",
    "Ttesting_data_X = Ttest_data.values\n",
    "Ttesting_data_y = yTtest_data.values\n",
    "test_scaled_data_y = scaler.fit_transform(Ttesting_data_y)\n",
    "X_test = np.array(Ttesting_data_X)\n",
    "y_test = np.array(Ttesting_data_y)\n",
    "X_test = np.reshape(X_test,(X_test.shape[0],X_test.shape[1],1))\n",
    "X_test.shape"
   ]
  },
  {
   "cell_type": "code",
   "execution_count": 205,
   "id": "f51ef684",
   "metadata": {},
   "outputs": [
    {
     "data": {
      "text/plain": [
       "array([[149.53914]], dtype=float32)"
      ]
     },
     "execution_count": 205,
     "metadata": {},
     "output_type": "execute_result"
    }
   ],
   "source": [
    "predictions_1 = model.predict(X_test)\n",
    "predictions_1 = scaler.inverse_transform(predictions_1)\n",
    "predictions_1"
   ]
  },
  {
   "cell_type": "code",
   "execution_count": 206,
   "id": "997e0bd9",
   "metadata": {},
   "outputs": [
    {
     "data": {
      "text/plain": [
       "0.829132080078125"
      ]
     },
     "execution_count": 206,
     "metadata": {},
     "output_type": "execute_result"
    }
   ],
   "source": [
    "rmse = np.sqrt(np.mean(predictions_1-y_test)**2)\n",
    "rmse"
   ]
  },
  {
   "cell_type": "code",
   "execution_count": null,
   "id": "91f4e4a1",
   "metadata": {},
   "outputs": [],
   "source": []
  }
 ],
 "metadata": {
  "kernelspec": {
   "display_name": "Python 3 (ipykernel)",
   "language": "python",
   "name": "python3"
  },
  "language_info": {
   "codemirror_mode": {
    "name": "ipython",
    "version": 3
   },
   "file_extension": ".py",
   "mimetype": "text/x-python",
   "name": "python",
   "nbconvert_exporter": "python",
   "pygments_lexer": "ipython3",
   "version": "3.9.7"
  }
 },
 "nbformat": 4,
 "nbformat_minor": 5
}
